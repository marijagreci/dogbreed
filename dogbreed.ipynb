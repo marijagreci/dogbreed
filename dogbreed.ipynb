{
  "nbformat": 4,
  "nbformat_minor": 0,
  "metadata": {
    "colab": {
      "provenance": [],
      "gpuType": "T4"
    },
    "kernelspec": {
      "name": "python3",
      "display_name": "Python 3"
    },
    "language_info": {
      "name": "python"
    },
    "accelerator": "GPU"
  },
  "cells": [
    {
      "cell_type": "markdown",
      "source": [
        "##Importing libraries, Data Loading and Exploration"
      ],
      "metadata": {
        "id": "gE2LcRwO5RRS"
      }
    },
    {
      "cell_type": "code",
      "source": [
        "import tensorflow as tf\n",
        "import tensorflow_hub as hub\n",
        "import keras\n",
        "from IPython.display import display, Image\n",
        "import matplotlib.pyplot as plt\n",
        "import numpy as np\n",
        "from sklearn.model_selection import train_test_split\n",
        "from matplotlib.pyplot import imread\n",
        "import matplotlib.pyplot as plt\n",
        "import pandas as pd\n",
        "from google.colab import drive\n",
        "from tensorflow.keras.applications import ResNet50\n",
        "from tensorflow.keras import layers, Model, Input\n",
        "from keras.layers import AveragePooling2D, Flatten, Dense, Dropout, GlobalAveragePooling2D\n",
        "from keras.applications.imagenet_utils import preprocess_input\n",
        "from keras.preprocessing.image import ImageDataGenerator\n",
        "from keras.models import Sequential\n",
        "import os"
      ],
      "metadata": {
        "id": "FdTLwAtGuT3X"
      },
      "execution_count": 1,
      "outputs": []
    },
    {
      "cell_type": "code",
      "source": [
        "drive.mount('/content/drive')"
      ],
      "metadata": {
        "id": "26dMIUMwuZxH",
        "colab": {
          "base_uri": "https://localhost:8080/"
        },
        "outputId": "f3ca35fe-45a5-4d18-edb7-95be59b73874"
      },
      "execution_count": 2,
      "outputs": [
        {
          "output_type": "stream",
          "name": "stdout",
          "text": [
            "Mounted at /content/drive\n"
          ]
        }
      ]
    },
    {
      "cell_type": "code",
      "source": [
        "!unzip \"drive/My Drive/Data/dog-breed-identification.zip\" -d \"drive/My Drive/Data/\""
      ],
      "metadata": {
        "id": "XgCKcHJORkDL"
      },
      "execution_count": null,
      "outputs": []
    },
    {
      "cell_type": "code",
      "source": [
        "labels_csv = pd.read_csv(\"drive/My Drive/Data/labels.csv\")\n",
        "print(labels_csv.describe())\n",
        "print(labels_csv.head())"
      ],
      "metadata": {
        "id": "b8DHJkw9SUXr",
        "colab": {
          "base_uri": "https://localhost:8080/"
        },
        "outputId": "24d04963-6f31-41df-a7d6-56720d9ab86b"
      },
      "execution_count": 4,
      "outputs": [
        {
          "output_type": "stream",
          "name": "stdout",
          "text": [
            "                                      id               breed\n",
            "count                              10222               10222\n",
            "unique                             10222                 120\n",
            "top     000bec180eb18c7604dcecc8fe0dba07  scottish_deerhound\n",
            "freq                                   1                 126\n",
            "                                 id             breed\n",
            "0  000bec180eb18c7604dcecc8fe0dba07       boston_bull\n",
            "1  001513dfcb2ffafc82cccf4d8bbaba97             dingo\n",
            "2  001cdf01b096e06d78e9e5112d419397          pekinese\n",
            "3  00214f311d5d2247d5dfe4fe24b2303d          bluetick\n",
            "4  0021f9ceb3235effd7fcde7f7538ed62  golden_retriever\n"
          ]
        }
      ]
    },
    {
      "cell_type": "code",
      "source": [
        "filenames = [\"drive/My Drive/Data/train/\" + fname + \".jpg\" for fname in labels_csv[\"id\"]]"
      ],
      "metadata": {
        "id": "jijXrRHRV35v"
      },
      "execution_count": 5,
      "outputs": []
    },
    {
      "cell_type": "code",
      "source": [
        "labels = labels_csv[\"breed\"].to_numpy()"
      ],
      "metadata": {
        "id": "5DLHOPuPWL8o"
      },
      "execution_count": 6,
      "outputs": []
    },
    {
      "cell_type": "code",
      "source": [
        "unique_breeds = np.unique(labels)\n",
        "len(unique_breeds)"
      ],
      "metadata": {
        "id": "CbQcZvjdWVs4",
        "colab": {
          "base_uri": "https://localhost:8080/"
        },
        "outputId": "c084a55c-b1ac-4fc2-aa14-4a6999eed180"
      },
      "execution_count": 7,
      "outputs": [
        {
          "output_type": "execute_result",
          "data": {
            "text/plain": [
              "120"
            ]
          },
          "metadata": {},
          "execution_count": 7
        }
      ]
    },
    {
      "cell_type": "code",
      "source": [
        "boolean_labels = [label == np.array(unique_breeds) for label in labels]"
      ],
      "metadata": {
        "id": "aofKALYWCFUG"
      },
      "execution_count": 8,
      "outputs": []
    },
    {
      "cell_type": "code",
      "source": [
        "X = filenames\n",
        "y = boolean_labels"
      ],
      "metadata": {
        "id": "QmPKIX1ZWjCQ"
      },
      "execution_count": 9,
      "outputs": []
    },
    {
      "cell_type": "code",
      "source": [
        "number_of_img = 1000"
      ],
      "metadata": {
        "id": "wu85umYpWmpY"
      },
      "execution_count": 10,
      "outputs": []
    },
    {
      "cell_type": "code",
      "source": [
        "X_train, X_val, y_train, y_val = train_test_split(X[:number_of_img],\n",
        "                                                  y[:number_of_img],\n",
        "                                                  test_size=0.2,\n",
        "                                                  random_state=42)\n",
        "\n",
        "len(X_train), len(y_train), len(X_val), len(y_val)"
      ],
      "metadata": {
        "id": "drEs3yS0Wpka",
        "colab": {
          "base_uri": "https://localhost:8080/"
        },
        "outputId": "05045a20-748c-4e5c-bf5b-b44dd8e99968"
      },
      "execution_count": 11,
      "outputs": [
        {
          "output_type": "execute_result",
          "data": {
            "text/plain": [
              "(800, 800, 200, 200)"
            ]
          },
          "metadata": {},
          "execution_count": 11
        }
      ]
    },
    {
      "cell_type": "code",
      "source": [
        "image = imread(filenames[30])\n",
        "image.shape"
      ],
      "metadata": {
        "id": "3q-rPPM9Wuk0",
        "colab": {
          "base_uri": "https://localhost:8080/"
        },
        "outputId": "3a68d75f-b3e7-4b26-aa65-21fe1003039d"
      },
      "execution_count": 12,
      "outputs": [
        {
          "output_type": "execute_result",
          "data": {
            "text/plain": [
              "(338, 450, 3)"
            ]
          },
          "metadata": {},
          "execution_count": 12
        }
      ]
    },
    {
      "cell_type": "markdown",
      "source": [
        "##Data Preprocessing"
      ],
      "metadata": {
        "id": "cQEmS8it5u8_"
      }
    },
    {
      "cell_type": "code",
      "source": [
        "imagesize = 224\n",
        "\n",
        "def process_image(image_path):\n",
        "\n",
        "  image = tf.io.read_file(image_path)\n",
        "  image = tf.image.decode_jpeg(image, channels=3)\n",
        "  image = tf.image.convert_image_dtype(image, tf.float32)\n",
        "  image = tf.image.resize(image, size=[imagesize, imagesize])\n",
        "  return image"
      ],
      "metadata": {
        "id": "x8QB7dhTW2Ut"
      },
      "execution_count": 13,
      "outputs": []
    },
    {
      "cell_type": "code",
      "source": [
        "def get_image_label(image_path, label):\n",
        "  image = process_image(image_path)\n",
        "  return image, label"
      ],
      "metadata": {
        "id": "UsZx_qXGW6L6"
      },
      "execution_count": 14,
      "outputs": []
    },
    {
      "cell_type": "code",
      "source": [
        "batchsize = 32\n",
        "\n",
        "def create_data_batches(x, y=None, batch_size=batchsize, valid_data=False, test_data=False):\n",
        "\n",
        "  if test_data:\n",
        "    data = tf.data.Dataset.from_tensor_slices((tf.constant(x)))\n",
        "    data_batch = data.map(process_image).batch(batchsize)\n",
        "    return data_batch\n",
        "\n",
        "\n",
        "  elif valid_data:\n",
        "    data = tf.data.Dataset.from_tensor_slices((tf.constant(x),\n",
        "                                               tf.constant(y)))\n",
        "    data_batch = data.map(get_image_label).batch(batchsize)\n",
        "    return data_batch\n",
        "\n",
        "  else:\n",
        "    data = tf.data.Dataset.from_tensor_slices((tf.constant(x),\n",
        "                                              tf.constant(y)))\n",
        "\n",
        "    data = data.shuffle(buffer_size=len(x))\n",
        "\n",
        "    data = data.map(get_image_label)\n",
        "\n",
        "    data_batch = data.batch(batchsize)\n",
        "  return data_batch"
      ],
      "metadata": {
        "id": "U1rQNlRzW8cB"
      },
      "execution_count": 15,
      "outputs": []
    },
    {
      "cell_type": "code",
      "source": [
        "train_data = create_data_batches(X_train, y_train)\n",
        "val_data = create_data_batches(X_val, y_val, valid_data=True)"
      ],
      "metadata": {
        "id": "AYeg12SPXAkz"
      },
      "execution_count": 16,
      "outputs": []
    },
    {
      "cell_type": "markdown",
      "source": [
        "##Model Building"
      ],
      "metadata": {
        "id": "yhEi5_RM6Ol5"
      }
    },
    {
      "cell_type": "code",
      "source": [
        "inputshape = [None, imagesize, imagesize, 3]\n",
        "\n",
        "outputshape = len(unique_breeds)\n",
        "\n",
        "modelurl = \"https://tfhub.dev/google/bit/m-r50x1/1\"\n",
        "MODULE = hub.KerasLayer(modelurl)"
      ],
      "metadata": {
        "id": "TJef3HPyq2l-"
      },
      "execution_count": 17,
      "outputs": []
    },
    {
      "cell_type": "code",
      "source": [
        "early_stopping = tf.keras.callbacks.EarlyStopping(monitor=\"val_accuracy\",\n",
        "                                                  patience=3)"
      ],
      "metadata": {
        "id": "eMvpzuj82Hrq"
      },
      "execution_count": 18,
      "outputs": []
    },
    {
      "cell_type": "code",
      "source": [
        "def create_model(input_shape=inputshape, output_shape=outputshape, model_url=modelurl):\n",
        "  print(\"Building model with:\", modelurl)\n",
        "\n",
        "\n",
        "  model = tf.keras.Sequential([\n",
        "    hub.KerasLayer(modelurl),\n",
        "    tf.keras.layers.Dense(units=outputshape,\n",
        "                          activation=\"softmax\")\n",
        "  ])\n",
        "\n",
        "  model.compile(\n",
        "      loss=tf.keras.losses.BinaryCrossentropy(),\n",
        "      optimizer=tf.keras.optimizers.Adam(),\n",
        "      metrics=[\"accuracy\"]\n",
        "  )\n",
        "\n",
        "  # Build the model\n",
        "  model.build(inputshape)\n",
        "\n",
        "  return model"
      ],
      "metadata": {
        "id": "s4VXmn0VuCom"
      },
      "execution_count": 19,
      "outputs": []
    },
    {
      "cell_type": "code",
      "source": [
        "def train_model():\n",
        "\n",
        "\n",
        "  model.fit(x=train_data,\n",
        "            epochs=numepochs,\n",
        "            validation_data=val_data,\n",
        "            validation_freq=1,\n",
        "            callbacks=[early_stopping])\n",
        "\n",
        "  return model"
      ],
      "metadata": {
        "id": "DfzRibYQ2OBH"
      },
      "execution_count": 20,
      "outputs": []
    },
    {
      "cell_type": "code",
      "source": [
        "model = create_model()\n",
        "model.summary()"
      ],
      "metadata": {
        "id": "QCXEfqB6LPer",
        "colab": {
          "base_uri": "https://localhost:8080/"
        },
        "outputId": "03035c64-2e88-4529-e95a-86dfb5be725a"
      },
      "execution_count": 21,
      "outputs": [
        {
          "output_type": "stream",
          "name": "stdout",
          "text": [
            "Building model with: https://tfhub.dev/google/bit/m-r50x1/1\n",
            "Model: \"sequential\"\n",
            "_________________________________________________________________\n",
            " Layer (type)                Output Shape              Param #   \n",
            "=================================================================\n",
            " keras_layer_1 (KerasLayer)  (None, 2048)              23500352  \n",
            "                                                                 \n",
            " dense (Dense)               (None, 120)               245880    \n",
            "                                                                 \n",
            "=================================================================\n",
            "Total params: 23,746,232\n",
            "Trainable params: 245,880\n",
            "Non-trainable params: 23,500,352\n",
            "_________________________________________________________________\n"
          ]
        }
      ]
    },
    {
      "cell_type": "code",
      "source": [
        "numepochs = 100"
      ],
      "metadata": {
        "id": "zB5HXIYo2KYE"
      },
      "execution_count": 22,
      "outputs": []
    },
    {
      "cell_type": "code",
      "source": [
        "model = train_model()"
      ],
      "metadata": {
        "id": "lSDIYEm-6bWx",
        "colab": {
          "base_uri": "https://localhost:8080/"
        },
        "outputId": "de872037-762e-4082-a550-0bc87e03cfaf"
      },
      "execution_count": 23,
      "outputs": [
        {
          "output_type": "stream",
          "name": "stdout",
          "text": [
            "Epoch 1/100\n",
            "25/25 [==============================] - 33s 340ms/step - loss: 0.1928 - accuracy: 0.0288 - val_loss: 0.1204 - val_accuracy: 0.0900\n",
            "Epoch 2/100\n",
            "25/25 [==============================] - 8s 302ms/step - loss: 0.0900 - accuracy: 0.1800 - val_loss: 0.0824 - val_accuracy: 0.1700\n",
            "Epoch 3/100\n",
            "25/25 [==============================] - 7s 296ms/step - loss: 0.0494 - accuracy: 0.3562 - val_loss: 0.0525 - val_accuracy: 0.2650\n",
            "Epoch 4/100\n",
            "25/25 [==============================] - 6s 243ms/step - loss: 0.0253 - accuracy: 0.6363 - val_loss: 0.0412 - val_accuracy: 0.3350\n",
            "Epoch 5/100\n",
            "25/25 [==============================] - 7s 297ms/step - loss: 0.0150 - accuracy: 0.7600 - val_loss: 0.0339 - val_accuracy: 0.4250\n",
            "Epoch 6/100\n",
            "25/25 [==============================] - 6s 242ms/step - loss: 0.0098 - accuracy: 0.8725 - val_loss: 0.0301 - val_accuracy: 0.4350\n",
            "Epoch 7/100\n",
            "25/25 [==============================] - 6s 244ms/step - loss: 0.0069 - accuracy: 0.9375 - val_loss: 0.0279 - val_accuracy: 0.4550\n",
            "Epoch 8/100\n",
            "25/25 [==============================] - 6s 252ms/step - loss: 0.0050 - accuracy: 0.9675 - val_loss: 0.0263 - val_accuracy: 0.4850\n",
            "Epoch 9/100\n",
            "25/25 [==============================] - 6s 245ms/step - loss: 0.0039 - accuracy: 0.9862 - val_loss: 0.0266 - val_accuracy: 0.5150\n",
            "Epoch 10/100\n",
            "25/25 [==============================] - 8s 299ms/step - loss: 0.0032 - accuracy: 0.9937 - val_loss: 0.0261 - val_accuracy: 0.5000\n",
            "Epoch 11/100\n",
            "25/25 [==============================] - 8s 305ms/step - loss: 0.0026 - accuracy: 0.9975 - val_loss: 0.0261 - val_accuracy: 0.5500\n",
            "Epoch 12/100\n",
            "25/25 [==============================] - 6s 254ms/step - loss: 0.0022 - accuracy: 1.0000 - val_loss: 0.0264 - val_accuracy: 0.5300\n",
            "Epoch 13/100\n",
            "25/25 [==============================] - 8s 300ms/step - loss: 0.0019 - accuracy: 0.9987 - val_loss: 0.0265 - val_accuracy: 0.5600\n",
            "Epoch 14/100\n",
            "25/25 [==============================] - 6s 247ms/step - loss: 0.0016 - accuracy: 1.0000 - val_loss: 0.0265 - val_accuracy: 0.5500\n",
            "Epoch 15/100\n",
            "25/25 [==============================] - 7s 261ms/step - loss: 0.0014 - accuracy: 1.0000 - val_loss: 0.0265 - val_accuracy: 0.5500\n",
            "Epoch 16/100\n",
            "25/25 [==============================] - 8s 306ms/step - loss: 0.0013 - accuracy: 1.0000 - val_loss: 0.0267 - val_accuracy: 0.5500\n"
          ]
        }
      ]
    },
    {
      "cell_type": "markdown",
      "source": [
        "##Evaluation"
      ],
      "metadata": {
        "id": "tvZWSz08YYx_"
      }
    },
    {
      "cell_type": "code",
      "source": [
        "model.evaluate(val_data)"
      ],
      "metadata": {
        "id": "mmUwfQo03Gks",
        "colab": {
          "base_uri": "https://localhost:8080/"
        },
        "outputId": "5df6a2ac-3fbc-4f76-ba2c-c2ef193453a0"
      },
      "execution_count": 24,
      "outputs": [
        {
          "output_type": "stream",
          "name": "stdout",
          "text": [
            "7/7 [==============================] - 1s 170ms/step - loss: 0.0267 - accuracy: 0.5500\n"
          ]
        },
        {
          "output_type": "execute_result",
          "data": {
            "text/plain": [
              "[0.026692228391766548, 0.550000011920929]"
            ]
          },
          "metadata": {},
          "execution_count": 24
        }
      ]
    },
    {
      "cell_type": "markdown",
      "source": [
        "##Training on Full Data"
      ],
      "metadata": {
        "id": "UOEtB_g3Y0aa"
      }
    },
    {
      "cell_type": "code",
      "source": [
        "full_data = create_data_batches(X, y)"
      ],
      "metadata": {
        "id": "-1TNiBbt3XXw"
      },
      "execution_count": 25,
      "outputs": []
    },
    {
      "cell_type": "code",
      "source": [
        "full_model = create_model()\n",
        "full_model.summary()"
      ],
      "metadata": {
        "id": "PkrcN23l8jUY",
        "colab": {
          "base_uri": "https://localhost:8080/"
        },
        "outputId": "ad620cdf-a5ec-4359-83ec-c749588a6066"
      },
      "execution_count": 26,
      "outputs": [
        {
          "output_type": "stream",
          "name": "stdout",
          "text": [
            "Building model with: https://tfhub.dev/google/bit/m-r50x1/1\n",
            "Model: \"sequential_1\"\n",
            "_________________________________________________________________\n",
            " Layer (type)                Output Shape              Param #   \n",
            "=================================================================\n",
            " keras_layer_2 (KerasLayer)  (None, 2048)              23500352  \n",
            "                                                                 \n",
            " dense_1 (Dense)             (None, 120)               245880    \n",
            "                                                                 \n",
            "=================================================================\n",
            "Total params: 23,746,232\n",
            "Trainable params: 245,880\n",
            "Non-trainable params: 23,500,352\n",
            "_________________________________________________________________\n"
          ]
        }
      ]
    },
    {
      "cell_type": "code",
      "source": [
        "full_model_early_stopping = tf.keras.callbacks.EarlyStopping(monitor=\"accuracy\",\n",
        "                                                             patience=3)"
      ],
      "metadata": {
        "id": "7uZytqpc9Eyi"
      },
      "execution_count": 27,
      "outputs": []
    },
    {
      "cell_type": "code",
      "source": [
        "full_model.fit(x=full_data,\n",
        "               epochs=numepochs,\n",
        "               callbacks=[full_model_early_stopping])"
      ],
      "metadata": {
        "id": "2PbIxX6h9Huo",
        "colab": {
          "base_uri": "https://localhost:8080/"
        },
        "outputId": "03030a5c-f93e-4b8e-a788-24e707284270"
      },
      "execution_count": 28,
      "outputs": [
        {
          "output_type": "stream",
          "name": "stdout",
          "text": [
            "Epoch 1/100\n",
            "320/320 [==============================] - 81s 202ms/step - loss: 0.0440 - accuracy: 0.4318\n",
            "Epoch 2/100\n",
            "320/320 [==============================] - 64s 200ms/step - loss: 0.0146 - accuracy: 0.7222\n",
            "Epoch 3/100\n",
            "320/320 [==============================] - 65s 202ms/step - loss: 0.0107 - accuracy: 0.8073\n",
            "Epoch 4/100\n",
            "320/320 [==============================] - 65s 204ms/step - loss: 0.0081 - accuracy: 0.8603\n",
            "Epoch 5/100\n",
            "320/320 [==============================] - 65s 202ms/step - loss: 0.0068 - accuracy: 0.8925\n",
            "Epoch 6/100\n",
            "320/320 [==============================] - 65s 204ms/step - loss: 0.0057 - accuracy: 0.9138\n",
            "Epoch 7/100\n",
            "320/320 [==============================] - 65s 202ms/step - loss: 0.0044 - accuracy: 0.9412\n",
            "Epoch 8/100\n",
            "320/320 [==============================] - 65s 201ms/step - loss: 0.0037 - accuracy: 0.9531\n",
            "Epoch 9/100\n",
            "320/320 [==============================] - 64s 200ms/step - loss: 0.0030 - accuracy: 0.9670\n",
            "Epoch 10/100\n",
            "320/320 [==============================] - 65s 203ms/step - loss: 0.0028 - accuracy: 0.9700\n",
            "Epoch 11/100\n",
            "320/320 [==============================] - 65s 203ms/step - loss: 0.0024 - accuracy: 0.9754\n",
            "Epoch 12/100\n",
            "320/320 [==============================] - 66s 205ms/step - loss: 0.0022 - accuracy: 0.9804\n",
            "Epoch 13/100\n",
            "320/320 [==============================] - 67s 209ms/step - loss: 0.0019 - accuracy: 0.9838\n",
            "Epoch 14/100\n",
            "320/320 [==============================] - 66s 205ms/step - loss: 0.0018 - accuracy: 0.9871\n",
            "Epoch 15/100\n",
            "320/320 [==============================] - 64s 201ms/step - loss: 0.0021 - accuracy: 0.9819\n",
            "Epoch 16/100\n",
            "320/320 [==============================] - 65s 204ms/step - loss: 0.0017 - accuracy: 0.9873\n",
            "Epoch 17/100\n",
            "320/320 [==============================] - 64s 200ms/step - loss: 0.0017 - accuracy: 0.9858\n",
            "Epoch 18/100\n",
            "320/320 [==============================] - 65s 202ms/step - loss: 0.0014 - accuracy: 0.9906\n",
            "Epoch 19/100\n",
            "320/320 [==============================] - 65s 204ms/step - loss: 0.0011 - accuracy: 0.9928\n",
            "Epoch 20/100\n",
            "320/320 [==============================] - 65s 202ms/step - loss: 0.0010 - accuracy: 0.9933\n",
            "Epoch 21/100\n",
            "320/320 [==============================] - 64s 201ms/step - loss: 0.0012 - accuracy: 0.9928\n",
            "Epoch 22/100\n",
            "320/320 [==============================] - 66s 205ms/step - loss: 0.0014 - accuracy: 0.9915\n",
            "Epoch 23/100\n",
            "320/320 [==============================] - 64s 201ms/step - loss: 0.0013 - accuracy: 0.9908\n"
          ]
        },
        {
          "output_type": "execute_result",
          "data": {
            "text/plain": [
              "<keras.callbacks.History at 0x7b6ad17f9600>"
            ]
          },
          "metadata": {},
          "execution_count": 28
        }
      ]
    },
    {
      "cell_type": "code",
      "source": [],
      "metadata": {
        "id": "mBPO5HNN_fWz"
      },
      "execution_count": null,
      "outputs": []
    }
  ]
}